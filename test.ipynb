{
 "cells": [
  {
   "cell_type": "code",
   "execution_count": 6,
   "metadata": {},
   "outputs": [
    {
     "name": "stdout",
     "output_type": "stream",
     "text": [
      "running sdist\n",
      "running egg_info\n",
      "writing TakayaSora.egg-info\\PKG-INFO\n",
      "writing dependency_links to TakayaSora.egg-info\\dependency_links.txt\n",
      "writing top-level names to TakayaSora.egg-info\\top_level.txt\n",
      "reading manifest file 'TakayaSora.egg-info\\SOURCES.txt'\n",
      "writing manifest file 'TakayaSora.egg-info\\SOURCES.txt'\n",
      "running check\n",
      "creating TakayaSora-0.1.0\n",
      "creating TakayaSora-0.1.0\\TakayaSora\n",
      "creating TakayaSora-0.1.0\\TakayaSora.egg-info\n",
      "copying files to TakayaSora-0.1.0...\n",
      "copying README.md -> TakayaSora-0.1.0\n",
      "copying setup.py -> TakayaSora-0.1.0\n",
      "copying TakayaSora\\SAPnet.py -> TakayaSora-0.1.0\\TakayaSora\n",
      "copying TakayaSora\\__init__.py -> TakayaSora-0.1.0\\TakayaSora\n",
      "copying TakayaSora.egg-info\\PKG-INFO -> TakayaSora-0.1.0\\TakayaSora.egg-info\n",
      "copying TakayaSora.egg-info\\SOURCES.txt -> TakayaSora-0.1.0\\TakayaSora.egg-info\n",
      "copying TakayaSora.egg-info\\dependency_links.txt -> TakayaSora-0.1.0\\TakayaSora.egg-info\n",
      "copying TakayaSora.egg-info\\top_level.txt -> TakayaSora-0.1.0\\TakayaSora.egg-info\n",
      "Writing TakayaSora-0.1.0\\setup.cfg\n",
      "Creating tar archive\n",
      "removing 'TakayaSora-0.1.0' (and everything under it)\n"
     ]
    },
    {
     "name": "stderr",
     "output_type": "stream",
     "text": [
      "warning: check: missing required meta-data: url\n",
      "\n",
      "warning: check: missing meta-data: either (author and author_email) or (maintainer and maintainer_email) must be supplied\n",
      "\n"
     ]
    }
   ],
   "source": [
    "!python setup.py sdist"
   ]
  },
  {
   "cell_type": "code",
   "execution_count": 7,
   "metadata": {},
   "outputs": [
    {
     "name": "stdout",
     "output_type": "stream",
     "text": [
      "running bdist_wheel\n",
      "running build\n",
      "running build_py\n",
      "installing to build\\bdist.win-amd64\\wheel\n",
      "running install\n",
      "running install_lib\n",
      "creating build\\bdist.win-amd64\\wheel\n",
      "creating build\\bdist.win-amd64\\wheel\\TakayaSora\n",
      "copying build\\lib\\TakayaSora\\SAPnet.py -> build\\bdist.win-amd64\\wheel\\.\\TakayaSora\n",
      "copying build\\lib\\TakayaSora\\__init__.py -> build\\bdist.win-amd64\\wheel\\.\\TakayaSora\n",
      "running install_egg_info\n",
      "running egg_info\n",
      "writing TakayaSora.egg-info\\PKG-INFO\n",
      "writing dependency_links to TakayaSora.egg-info\\dependency_links.txt\n",
      "writing top-level names to TakayaSora.egg-info\\top_level.txt\n",
      "reading manifest file 'TakayaSora.egg-info\\SOURCES.txt'\n",
      "writing manifest file 'TakayaSora.egg-info\\SOURCES.txt'\n",
      "Copying TakayaSora.egg-info to build\\bdist.win-amd64\\wheel\\.\\TakayaSora-0.1.0-py3.7.egg-info\n",
      "running install_scripts\n",
      "adding license file \"LICENSE\" (matched pattern \"LICEN[CS]E*\")\n",
      "creating build\\bdist.win-amd64\\wheel\\TakayaSora-0.1.0.dist-info\\WHEEL\n",
      "creating 'dist\\TakayaSora-0.1.0-py3-none-any.whl' and adding 'build\\bdist.win-amd64\\wheel' to it\n",
      "adding 'TakayaSora/SAPnet.py'\n",
      "adding 'TakayaSora/__init__.py'\n",
      "adding 'TakayaSora-0.1.0.dist-info/LICENSE'\n",
      "adding 'TakayaSora-0.1.0.dist-info/METADATA'\n",
      "adding 'TakayaSora-0.1.0.dist-info/WHEEL'\n",
      "adding 'TakayaSora-0.1.0.dist-info/top_level.txt'\n",
      "adding 'TakayaSora-0.1.0.dist-info/RECORD'\n",
      "removing build\\bdist.win-amd64\\wheel\n"
     ]
    }
   ],
   "source": [
    "!python setup.py bdist_wheel"
   ]
  },
  {
   "cell_type": "code",
   "execution_count": 8,
   "metadata": {},
   "outputs": [
    {
     "name": "stderr",
     "output_type": "stream",
     "text": [
      "'ls' �́A�����R�}���h�܂��͊O���R�}���h�A\n",
      "����\\�ȃv���O�����܂��̓o�b�` �t�@�C���Ƃ��ĔF������Ă��܂���B\n"
     ]
    }
   ],
   "source": [
    "!ls dist"
   ]
  },
  {
   "cell_type": "code",
   "execution_count": 12,
   "metadata": {},
   "outputs": [
    {
     "name": "stderr",
     "output_type": "stream",
     "text": [
      "FIND: �p�����[�^�[�̏������Ⴂ�܂�\n"
     ]
    }
   ],
   "source": [
    "!find $HOME/.pypirc"
   ]
  },
  {
   "cell_type": "code",
   "execution_count": 20,
   "metadata": {},
   "outputs": [
    {
     "name": "stderr",
     "output_type": "stream",
     "text": [
      "'rm' �́A�����R�}���h�܂��͊O���R�}���h�A\n",
      "����\\�ȃv���O�����܂��̓o�b�` �t�@�C���Ƃ��ĔF������Ă��܂���B\n"
     ]
    }
   ],
   "source": [
    "!rm -rf build"
   ]
  },
  {
   "cell_type": "code",
   "execution_count": 14,
   "metadata": {},
   "outputs": [
    {
     "name": "stderr",
     "output_type": "stream",
     "text": [
      "'rm' �́A�����R�}���h�܂��͊O���R�}���h�A\n",
      "����\\�ȃv���O�����܂��̓o�b�` �t�@�C���Ƃ��ĔF������Ă��܂���B\n",
      "'rm' �́A�����R�}���h�܂��͊O���R�}���h�A\n",
      "����\\�ȃv���O�����܂��̓o�b�` �t�@�C���Ƃ��ĔF������Ă��܂���B\n",
      "'rm' �́A�����R�}���h�܂��͊O���R�}���h�A\n",
      "����\\�ȃv���O�����܂��̓o�b�` �t�@�C���Ƃ��ĔF������Ă��܂���B\n"
     ]
    },
    {
     "name": "stdout",
     "output_type": "stream",
     "text": [
      "running sdist\n",
      "running egg_info\n",
      "writing TakayaSora.egg-info\\PKG-INFO\n",
      "writing dependency_links to TakayaSora.egg-info\\dependency_links.txt\n",
      "writing top-level names to TakayaSora.egg-info\\top_level.txt\n",
      "reading manifest file 'TakayaSora.egg-info\\SOURCES.txt'\n",
      "writing manifest file 'TakayaSora.egg-info\\SOURCES.txt'\n",
      "running check\n",
      "creating TakayaSora-0.1.0\n",
      "creating TakayaSora-0.1.0\\TakayaSora\n",
      "creating TakayaSora-0.1.0\\TakayaSora.egg-info\n",
      "copying files to TakayaSora-0.1.0...\n",
      "copying README.md -> TakayaSora-0.1.0\n",
      "copying setup.py -> TakayaSora-0.1.0\n",
      "copying TakayaSora\\SAPnet.py -> TakayaSora-0.1.0\\TakayaSora\n",
      "copying TakayaSora\\__init__.py -> TakayaSora-0.1.0\\TakayaSora\n",
      "copying TakayaSora.egg-info\\PKG-INFO -> TakayaSora-0.1.0\\TakayaSora.egg-info\n",
      "copying TakayaSora.egg-info\\SOURCES.txt -> TakayaSora-0.1.0\\TakayaSora.egg-info\n",
      "copying TakayaSora.egg-info\\dependency_links.txt -> TakayaSora-0.1.0\\TakayaSora.egg-info\n",
      "copying TakayaSora.egg-info\\top_level.txt -> TakayaSora-0.1.0\\TakayaSora.egg-info\n",
      "Writing TakayaSora-0.1.0\\setup.cfg\n",
      "Creating tar archive\n",
      "removing 'TakayaSora-0.1.0' (and everything under it)\n"
     ]
    },
    {
     "name": "stderr",
     "output_type": "stream",
     "text": [
      "warning: check: missing required meta-data: url\n",
      "\n",
      "warning: check: missing meta-data: either (author and author_email) or (maintainer and maintainer_email) must be supplied\n",
      "\n"
     ]
    },
    {
     "name": "stdout",
     "output_type": "stream",
     "text": [
      "running bdist_wheel\n",
      "running build\n",
      "running build_py\n",
      "installing to build\\bdist.win-amd64\\wheel\n",
      "running install\n",
      "running install_lib\n",
      "creating build\\bdist.win-amd64\\wheel\n",
      "creating build\\bdist.win-amd64\\wheel\\TakayaSora\n",
      "copying build\\lib\\TakayaSora\\SAPnet.py -> build\\bdist.win-amd64\\wheel\\.\\TakayaSora\n",
      "copying build\\lib\\TakayaSora\\__init__.py -> build\\bdist.win-amd64\\wheel\\.\\TakayaSora\n",
      "running install_egg_info\n",
      "running egg_info\n",
      "writing TakayaSora.egg-info\\PKG-INFO\n",
      "writing dependency_links to TakayaSora.egg-info\\dependency_links.txt\n",
      "writing top-level names to TakayaSora.egg-info\\top_level.txt\n",
      "reading manifest file 'TakayaSora.egg-info\\SOURCES.txt'\n",
      "writing manifest file 'TakayaSora.egg-info\\SOURCES.txt'\n",
      "Copying TakayaSora.egg-info to build\\bdist.win-amd64\\wheel\\.\\TakayaSora-0.1.0-py3.7.egg-info\n",
      "running install_scripts\n",
      "adding license file \"LICENSE\" (matched pattern \"LICEN[CS]E*\")\n",
      "creating build\\bdist.win-amd64\\wheel\\TakayaSora-0.1.0.dist-info\\WHEEL\n",
      "creating 'dist\\TakayaSora-0.1.0-py3-none-any.whl' and adding 'build\\bdist.win-amd64\\wheel' to it\n",
      "adding 'TakayaSora/SAPnet.py'\n",
      "adding 'TakayaSora/__init__.py'\n",
      "adding 'TakayaSora-0.1.0.dist-info/LICENSE'\n",
      "adding 'TakayaSora-0.1.0.dist-info/METADATA'\n",
      "adding 'TakayaSora-0.1.0.dist-info/WHEEL'\n",
      "adding 'TakayaSora-0.1.0.dist-info/top_level.txt'\n",
      "adding 'TakayaSora-0.1.0.dist-info/RECORD'\n",
      "removing build\\bdist.win-amd64\\wheel\n"
     ]
    },
    {
     "name": "stderr",
     "output_type": "stream",
     "text": [
      "'push�i����X�N���v�g�Bgit' �́A�����R�}���h�܂��͊O���R�}���h�A\n",
      "����\\�ȃv���O�����܂��̓o�b�` �t�@�C���Ƃ��ĔF������Ă��܂���B\n",
      "'version' �́A�����R�}���h�܂��͊O���R�}���h�A\n",
      "����\\�ȃv���O�����܂��̓o�b�` �t�@�C���Ƃ��ĔF������Ă��܂���B\n",
      "'message' �́A�����R�}���h�܂��͊O���R�}���h�A\n",
      "����\\�ȃv���O�����܂��̓o�b�` �t�@�C���Ƃ��ĔF������Ă��܂���B\n",
      "fatal: tag '$version' already exists\n",
      "Everything up-to-date\n",
      "'UN' �́A�����R�}���h�܂��͊O���R�}���h�A\n",
      "����\\�ȃv���O�����܂��̓o�b�` �t�@�C���Ƃ��ĔF������Ă��܂���B\n",
      "'PW' �́A�����R�}���h�܂��͊O���R�}���h�A\n",
      "����\\�ȃv���O�����܂��̓o�b�` �t�@�C���Ƃ��ĔF������Ă��܂���B\n"
     ]
    },
    {
     "name": "stdout",
     "output_type": "stream",
     "text": [
      "Uploading distributions to https://test.pypi.org/legacy/\n",
      "INFO     dist\\TakayaSora-0.1-py3-none-any.whl (3.8 KB)                         \n",
      "INFO     dist\\TakayaSora-0.1.0-py3-none-any.whl (3.8 KB)                       \n",
      "INFO     dist\\TakayaSora-0.1.0.tar.gz (2.6 KB)                                 \n",
      "INFO     dist\\TakayaSora-0.1.tar.gz (2.6 KB)                                   \n",
      "INFO     username set by command options                                       \n",
      "INFO     password set by command options                                       \n",
      "INFO     username: $UN                                                         \n",
      "INFO     password: <hidden>                                                    \n",
      "Uploading TakayaSora-0.1-py3-none-any.whl\n",
      "\n",
      "  0% ---------------------------------------- 0.0/6.5 kB • --:-- • ?\n",
      "100% ---------------------------------------- 6.5/6.5 kB • 00:00 • ?\n",
      "100% ---------------------------------------- 6.5/6.5 kB • 00:00 • ?\n",
      "100% ---------------------------------------- 6.5/6.5 kB • 00:00 • ?\n",
      "100% ---------------------------------------- 6.5/6.5 kB • 00:00 • ?\n",
      "100% ---------------------------------------- 6.5/6.5 kB • 00:00 • ?\n",
      "100% ---------------------------------------- 6.5/6.5 kB • 00:00 • ?\n",
      "100% ---------------------------------------- 6.5/6.5 kB • 00:00 • ?\n",
      "INFO     Response from https://test.pypi.org/legacy/:                          \n",
      "         403 Invalid or non-existent authentication information. See           \n",
      "         https://test.pypi.org/help/#invalid-auth for more information.        \n",
      "INFO     <html>                                                                \n",
      "          <head>                                                               \n",
      "           <title>403 Invalid or non-existent authentication information. See  \n",
      "         https://test.pypi.org/help/#invalid-auth for more information.</title>\n",
      "          </head>                                                              \n",
      "          <body>                                                               \n",
      "           <h1>403 Invalid or non-existent authentication information. See     \n",
      "         https://test.pypi.org/help/#invalid-auth for more information.</h1>   \n",
      "           Access was denied to this resource.<br/><br/>                       \n",
      "         Invalid or non-existent authentication information. See               \n",
      "         https://test.pypi.org/help/#invalid-auth for more information.        \n",
      "                                                                               \n",
      "                                                                               \n",
      "          </body>                                                              \n",
      "         </html>                                                               \n",
      "ERROR    HTTPError: 403 Forbidden from https://test.pypi.org/legacy/           \n",
      "         Invalid or non-existent authentication information. See               \n",
      "         https://test.pypi.org/help/#invalid-auth for more information.        \n",
      "Uploading distributions to https://test.pypi.org/legacy/\n",
      "Uploading TakayaSora-0.1-py3-none-any.whl\n",
      "\n",
      "  0% ---------------------------------------- 0.0/6.5 kB • --:-- • ?\n",
      "100% ---------------------------------------- 6.5/6.5 kB • 00:00 • ?\n",
      "100% ---------------------------------------- 6.5/6.5 kB • 00:00 • ?\n",
      "100% ---------------------------------------- 6.5/6.5 kB • 00:00 • ?\n",
      "100% ---------------------------------------- 6.5/6.5 kB • 00:00 • ?\n",
      "100% ---------------------------------------- 6.5/6.5 kB • 00:00 • ?\n",
      "100% ---------------------------------------- 6.5/6.5 kB • 00:00 • ?\n",
      "100% ---------------------------------------- 6.5/6.5 kB • 00:00 • ?\n",
      "WARNING  Error during upload. Retry with the --verbose option for more details.\n",
      "ERROR    HTTPError: 403 Forbidden from https://test.pypi.org/legacy/           \n",
      "         Invalid or non-existent authentication information. See               \n",
      "         https://test.pypi.org/help/#invalid-auth for more information.        \n"
     ]
    }
   ],
   "source": [
    "!rm -rf build\n",
    "!rm -rf dist\n",
    "!rm -rf mypack.egg-info\n",
    "\n",
    "!python setup.py sdist\n",
    "!python setup.py bdist_wheel\n",
    "\n",
    "!push（自作スクリプト。git add, git commit, git pushを一発でやる）\n",
    "\n",
    "!version='v0.1.0'\n",
    "!message=\"Package name changed from 'mypack' to 'mypack_ytyaru_20200112'\"\n",
    "!git tag -a \"$version\" -m \"$message\"\n",
    "!git push origin \"$version\"\n",
    "\n",
    "!UN=Tsora1216\n",
    "!PW=Microsoft\n",
    "!twine upload -u $UN -p $PW --repository-url https://test.pypi.org/legacy/ dist/* --verbose\n",
    "\n",
    "!twine upload -u $UN -p $PW --repository-url https://test.pypi.org/legacy/ dist/*"
   ]
  },
  {
   "cell_type": "code",
   "execution_count": 18,
   "metadata": {},
   "outputs": [
    {
     "name": "stderr",
     "output_type": "stream",
     "text": [
      "'Switch' �́A�����R�}���h�܂��͊O���R�}���h�A\n",
      "����\\�ȃv���O�����܂��̓o�b�` �t�@�C���Ƃ��ĔF������Ă��܂���B\n"
     ]
    },
    {
     "name": "stderr",
     "output_type": "stream",
     "text": [
      "Python \n",
      "'source' �́A�����R�}���h�܂��͊O���R�}���h�A\n",
      "����\\�ȃv���O�����܂��̓o�b�` �t�@�C���Ƃ��ĔF������Ă��܂���B\n",
      "Python \n",
      "Python \n"
     ]
    }
   ],
   "source": [
    "!Switch to your package directory\n",
    "!python3 -m venv .venv_pypi\n",
    "!source .venv_pypi/bin/activate\n",
    "!python3 -m pip install --upgrade pip\n",
    "!python3 -m pip install --upgrade setuptools wheel twine"
   ]
  },
  {
   "cell_type": "code",
   "execution_count": 19,
   "metadata": {},
   "outputs": [
    {
     "name": "stderr",
     "output_type": "stream",
     "text": [
      "'source' �́A�����R�}���h�܂��͊O���R�}���h�A\n",
      "����\\�ȃv���O�����܂��̓o�b�` �t�@�C���Ƃ��ĔF������Ă��܂���B\n"
     ]
    }
   ],
   "source": [
    "!source .venv_pypi/bin/activate twine upload -r pypi dist/*"
   ]
  },
  {
   "cell_type": "code",
   "execution_count": 16,
   "metadata": {},
   "outputs": [
    {
     "name": "stdout",
     "output_type": "stream",
     "text": [
      "^C\n"
     ]
    }
   ],
   "source": [
    "!twine upload --repository testpypi dist/*"
   ]
  },
  {
   "cell_type": "code",
   "execution_count": 11,
   "metadata": {},
   "outputs": [
    {
     "name": "stdout",
     "output_type": "stream",
     "text": [
      "^C\n"
     ]
    }
   ],
   "source": [
    "!twine upload --repository-url https://test.pypi.org/legacy/ dist/*"
   ]
  }
 ],
 "metadata": {
  "kernelspec": {
   "display_name": "Python 3",
   "language": "python",
   "name": "python3"
  },
  "language_info": {
   "codemirror_mode": {
    "name": "ipython",
    "version": 3
   },
   "file_extension": ".py",
   "mimetype": "text/x-python",
   "name": "python",
   "nbconvert_exporter": "python",
   "pygments_lexer": "ipython3",
   "version": "3.7.9"
  },
  "orig_nbformat": 4
 },
 "nbformat": 4,
 "nbformat_minor": 2
}
